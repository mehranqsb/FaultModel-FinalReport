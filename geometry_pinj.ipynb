{
 "cells": [
  {
   "cell_type": "code",
   "execution_count": 4,
   "metadata": {},
   "outputs": [
    {
     "name": "stdout",
     "output_type": "stream",
     "text": [
      "Total number of primary nodes: 12\n",
      "Primary Nodes and Coordinates:\n",
      "Node 0: [9.97772271 9.97720971 0.        ]\n",
      "Node 1: [ 9.99030592 10.00419448  0.        ]\n",
      "Node 2: [10.00288912 10.03117925  0.        ]\n",
      "Node 3: [9.99711088 9.96882075 0.        ]\n",
      "Node 4: [10.00969408  9.99580552  0.        ]\n",
      "Node 5: [10.02227729 10.02279029  0.        ]\n",
      "Node 6: [ 9.97772271  9.97720971 -0.04586218]\n",
      "Node 7: [ 9.99030592 10.00419448 -0.04586218]\n",
      "Node 8: [10.00288912 10.03117925 -0.04586218]\n",
      "Node 9: [ 9.99711088  9.96882075 -0.04586218]\n",
      "Node 10: [10.00969408  9.99580552 -0.04586218]\n",
      "Node 11: [10.02227729 10.02279029 -0.04586218]\n",
      "Primary node coordinates saved to 'primary_nodes_coordinates.csv'.\n"
     ]
    }
   ],
   "source": [
    "import meshio\n",
    "import numpy as np\n",
    "import csv\n",
    "\n",
    "# Load the VTU file\n",
    "vtu_file = \"geometry_pinj.vtu\"  # Replace with your VTU file path\n",
    "mesh = meshio.read(vtu_file)\n",
    "\n",
    "# Verify that hexahedron20 exists in the mesh\n",
    "if \"hexahedron20\" not in mesh.cells_dict:\n",
    "    raise ValueError(\"The mesh does not contain hexahedron20 elements!\")\n",
    "\n",
    "# Extract connectivity for hexahedron20\n",
    "connectivity = mesh.cells_dict[\"hexahedron20\"]\n",
    "\n",
    "# Extract primary node indices (first 8 nodes of each hexahedron)\n",
    "primary_node_indices = np.unique(connectivity[:, :8])  # First 8 nodes are corner nodes\n",
    "\n",
    "# Extract coordinates of primary nodes\n",
    "primary_nodes = mesh.points[primary_node_indices]\n",
    "\n",
    "# Print primary nodes and their coordinates\n",
    "print(f\"Total number of primary nodes: {len(primary_nodes)}\")\n",
    "print(\"Primary Nodes and Coordinates:\")\n",
    "for idx, coord in enumerate(primary_nodes):\n",
    "    print(f\"Node {idx}: {coord}\")\n",
    "\n",
    "# Save the primary nodes and coordinates to a CSV file\n",
    "output_csv = \"primary_nodes_coordinates.csv\"\n",
    "with open(output_csv, \"w\", newline=\"\") as csvfile:\n",
    "    writer = csv.writer(csvfile)\n",
    "    writer.writerow([\"Node Index\", \"X\", \"Y\", \"Z\"])\n",
    "    for idx, coord in enumerate(primary_nodes):\n",
    "        writer.writerow([idx, *coord])\n",
    "\n",
    "print(f\"Primary node coordinates saved to '{output_csv}'.\")\n"
   ]
  }
 ],
 "metadata": {
  "kernelspec": {
   "display_name": "Python 3",
   "language": "python",
   "name": "python3"
  },
  "language_info": {
   "codemirror_mode": {
    "name": "ipython",
    "version": 3
   },
   "file_extension": ".py",
   "mimetype": "text/x-python",
   "name": "python",
   "nbconvert_exporter": "python",
   "pygments_lexer": "ipython3",
   "version": "3.10.12"
  }
 },
 "nbformat": 4,
 "nbformat_minor": 2
}
